{
 "cells": [
  {
   "cell_type": "markdown",
   "metadata": {},
   "source": [
    "<b style='font-size:2em'>Tutorial 2 – Solving pre-defined partial differential equations</b>\n",
    "\n",
    "This second part of the tutorial dives into actual partial differential equations."
   ]
  },
  {
   "cell_type": "code",
   "execution_count": null,
   "metadata": {},
   "outputs": [],
   "source": [
    "# import packages\n",
    "import sys\n",
    "import numpy as np\n",
    "\n",
    "sys.path.append('../..')  # add the pde package to the python path\n",
    "import pde"
   ]
  },
  {
   "cell_type": "markdown",
   "metadata": {},
   "source": [
    "## Simple interface for solving PDEs\n",
    "\n",
    "In the simplest case, a PDE evolves a field in time. To reflect this in code, we first define an initial state and then use a simple PDE to evolve it in time."
   ]
  },
  {
   "cell_type": "code",
   "execution_count": null,
   "metadata": {},
   "outputs": [],
   "source": [
    "grid = pde.CartesianGrid([[-1, 1], [-1, 1]], 64)\n",
    "state = pde.ScalarField.from_expression(grid, 'exp(-(x**2 + y**2) * 100)')\n",
    "state.plot(title='Initial state');"
   ]
  },
  {
   "cell_type": "code",
   "execution_count": null,
   "metadata": {},
   "outputs": [],
   "source": [
    "eq = pde.DiffusionPDE()\n",
    "result = eq.solve(state, t_range=1, dt=1e-4)\n",
    "result.plot(title='State after $t=1$');"
   ]
  },
  {
   "cell_type": "markdown",
   "metadata": {},
   "source": [
    "Other PDEs can be solved similarly, but might require different initial conditions and/or solution parameters (e.g., `dt`)."
   ]
  },
  {
   "cell_type": "code",
   "execution_count": null,
   "metadata": {},
   "outputs": [],
   "source": [
    "grid = pde.UnitGrid([64, 64])\n",
    "state = pde.ScalarField.random_uniform(grid, -1, 1)\n",
    "\n",
    "eq = pde.CahnHilliardPDE()\n",
    "result = eq.solve(state, t_range=1e2, dt=1e-3)\n",
    "result.plot(title='State after $t=100$', colorbar=True);"
   ]
  },
  {
   "cell_type": "markdown",
   "metadata": {},
   "source": [
    "The boundary conditions applied to the differential operators of the PDE are usually specified as attributes of the PDE class."
   ]
  },
  {
   "cell_type": "code",
   "execution_count": null,
   "metadata": {},
   "outputs": [],
   "source": [
    "grid = pde.CartesianGrid([[0, 4*np.pi], [0, 4*np.pi]], [32, 32], periodic=[False, True])\n",
    "state = pde.ScalarField.random_uniform(grid, 0.2, 0.3)\n",
    "\n",
    "# set boundary conditions `bc` for all axes\n",
    "bc_x_left = {'derivative': 0.1}\n",
    "bc_x_right = {'value': 'sin(y)'}\n",
    "bc_x = [bc_x_left, bc_x_right]\n",
    "bc_y = 'periodic'\n",
    "eq = pde.DiffusionPDE(bc=[bc_x, bc_y])\n",
    "\n",
    "result = eq.solve(state, t_range=10, dt=0.005)\n",
    "result.plot(title='Diffusion with complex boundary conditions');"
   ]
  },
  {
   "cell_type": "markdown",
   "metadata": {},
   "source": [
    "PDEs can also be solved on grids enforcing symmetries."
   ]
  },
  {
   "cell_type": "code",
   "execution_count": null,
   "metadata": {},
   "outputs": [],
   "source": [
    "grid = pde.SphericalSymGrid([0, 5], 32)\n",
    "state = pde.ScalarField.random_uniform(grid)\n",
    "\n",
    "eq = pde.DiffusionPDE()\n",
    "result = eq.solve(state, t_range=0.1, dt=0.005)\n",
    "result.plot(title='Diffusion in spherical coordinates');"
   ]
  },
  {
   "cell_type": "markdown",
   "metadata": {},
   "source": [
    "## Trackers\n",
    "\n",
    "Trackers provide a way to access, analyze, and store information during the evolution of a PDE."
   ]
  },
  {
   "cell_type": "code",
   "execution_count": null,
   "metadata": {},
   "outputs": [],
   "source": [
    "grid = pde.UnitGrid([128, 128])\n",
    "state = pde.ScalarField.random_uniform(grid, -0.5, 0.5)\n",
    "eq = pde.CahnHilliardPDE()"
   ]
  },
  {
   "cell_type": "code",
   "execution_count": null,
   "metadata": {
    "run_control": {
     "marked": true
    }
   },
   "outputs": [],
   "source": [
    "# Show the evolution while computing it\n",
    "eq.solve(state, t_range=1e3, dt=0.01, tracker=pde.PlotTracker(interval=100));"
   ]
  },
  {
   "cell_type": "code",
   "execution_count": null,
   "metadata": {
    "run_control": {
     "marked": true
    }
   },
   "outputs": [],
   "source": [
    "# reduced output\n",
    "trackers = [\n",
    "    'progress',\n",
    "    pde.PrintTracker(interval='0:01')  # print output roughly every real second\n",
    "]\n",
    "\n",
    "eq.solve(state, t_range=1e3, dt=0.01, tracker=trackers);"
   ]
  },
  {
   "cell_type": "markdown",
   "metadata": {},
   "source": [
    "Data can also be stored in memory and in files"
   ]
  },
  {
   "cell_type": "code",
   "execution_count": null,
   "metadata": {},
   "outputs": [],
   "source": [
    "storage = pde.MemoryStorage()\n",
    "eq.solve(state, 100, dt=0.01, tracker=storage.tracker(interval=10))\n",
    "\n",
    "for field in storage:\n",
    "    print(f\"{field.integral:.3g}, {field.fluctuations:.3g}\")"
   ]
  },
  {
   "cell_type": "code",
   "execution_count": null,
   "metadata": {},
   "outputs": [],
   "source": [
    "storage_write = pde.FileStorage('simulation.hdf')\n",
    "eq.solve(state, 100, dt=0.01, tracker=storage_write.tracker(interval=10));"
   ]
  },
  {
   "cell_type": "code",
   "execution_count": null,
   "metadata": {},
   "outputs": [],
   "source": [
    "storage_read = pde.FileStorage('simulation.hdf')\n",
    "for field in storage_read:\n",
    "    print(f\"{field.integral:.3g}, {field.fluctuations:.3g}\")"
   ]
  },
  {
   "cell_type": "markdown",
   "metadata": {},
   "source": [
    "## Stochastic simulations\n",
    "\n",
    "Some PDE classes support stochastic simulations. Here, a noise term is added to the evolution rate of the PDE. This noise term is interpreted in the Itô interpretation and the standard PDE classes only support additive noise."
   ]
  },
  {
   "cell_type": "code",
   "execution_count": null,
   "metadata": {},
   "outputs": [],
   "source": [
    "grid = pde.UnitGrid([64])\n",
    "state = pde.ScalarField.random_harmonic(grid)\n",
    "\n",
    "eq = pde.KPZInterfacePDE(noise=1)\n",
    "storage = pde.MemoryStorage()\n",
    "result = eq.solve(state, t_range=100, dt=0.01, tracker=storage.tracker(1))\n",
    "result.plot(title='Final configuration');"
   ]
  },
  {
   "cell_type": "code",
   "execution_count": null,
   "metadata": {},
   "outputs": [],
   "source": [
    "pde.plot_kymograph(storage, title='Space-time plot of the evolution');"
   ]
  },
  {
   "cell_type": "markdown",
   "metadata": {},
   "source": [
    "## Poisson's and Laplace's equation\n",
    "Beside solving for the time evolution of typical partial differential equations, we can also solve Poisson's and Laplace's problem, $\\nabla^2 u = -f$, where $f=0$ in the Laplace case."
   ]
  },
  {
   "cell_type": "code",
   "execution_count": null,
   "metadata": {},
   "outputs": [],
   "source": [
    "grid = pde.CartesianGrid([[0, 2 * np.pi]] * 2, 64)\n",
    "bcs = [{'value': 'sin(y)'}, {'value': 'sin(x)'}]\n",
    "\n",
    "field_zero = pde.ScalarField(grid)\n",
    "result_laplace = pde.solve_poisson_equation(field_zero, bc=bcs)\n",
    "result_laplace.plot(title=\"Solution to Laplace's equation\", colorbar=True);"
   ]
  },
  {
   "cell_type": "code",
   "execution_count": null,
   "metadata": {},
   "outputs": [],
   "source": [
    "from mpl_toolkits.mplot3d import Axes3D\n",
    "import matplotlib.pyplot as plt\n",
    "ax = plt.figure().gca(projection='3d')\n",
    "x = grid.cell_coords[..., 0]\n",
    "y = grid.cell_coords[..., 1]\n",
    "z = result_laplace.data\n",
    "surf = ax.plot_surface(x, y, z, cmap='viridis',\n",
    "                       linewidth=0, antialiased=False)"
   ]
  },
  {
   "cell_type": "code",
   "execution_count": null,
   "metadata": {},
   "outputs": [],
   "source": [
    "field_one = pde.ScalarField(grid, -1)\n",
    "result_poisson = pde.solve_poisson_equation(field_one, bc={'value': '0'})\n",
    "result_poisson.plot(colorbar=True);"
   ]
  },
  {
   "cell_type": "code",
   "execution_count": null,
   "metadata": {},
   "outputs": [],
   "source": [
    "from mpl_toolkits.mplot3d import Axes3D\n",
    "import matplotlib.pyplot as plt\n",
    "ax = plt.figure().gca(projection='3d')\n",
    "x = grid.cell_coords[..., 0]\n",
    "y = grid.cell_coords[..., 1]\n",
    "z = result_poisson.data\n",
    "surf = ax.plot_surface(x, y, z, cmap='viridis',\n",
    "                       linewidth=0, antialiased=False)"
   ]
  },
  {
   "cell_type": "code",
   "execution_count": null,
   "metadata": {},
   "outputs": [],
   "source": [
    "result_poisson.laplace(bc={'value': '0'})"
   ]
  },
  {
   "cell_type": "markdown",
   "metadata": {},
   "source": [
    "## User defined PDEs\n",
    "Custom PDEs can be defined using all the machinery exposed by the package."
   ]
  },
  {
   "cell_type": "code",
   "execution_count": null,
   "metadata": {},
   "outputs": [],
   "source": [
    "# define a simple diffusion equation\n",
    "eq = pde.PDE({'u': \"laplace(u)\"})\n",
    "\n",
    "# initialize state\n",
    "grid = pde.UnitGrid([64, 64])\n",
    "state = pde.ScalarField.random_normal(grid, label='Initial state')\n",
    "\n",
    "# simulate the pde\n",
    "sol = eq.solve(state, t_range=10, dt=1e-2)\n",
    "sol.label = 'Final state'\n",
    "\n",
    "# compare the initial and final state\n",
    "pde.FieldCollection([state, sol]).plot();"
   ]
  },
  {
   "cell_type": "markdown",
   "metadata": {},
   "source": [
    "The `PDE` class also supports multiple fields and vectorial PDEs."
   ]
  },
  {
   "cell_type": "code",
   "execution_count": null,
   "metadata": {},
   "outputs": [],
   "source": [
    "# define the Brusselator PDE\n",
    "a, b = 1, 3\n",
    "d0, d1 = 1, 0.1\n",
    "eq = pde.PDE({'u': f\"{d0} * laplace(u) + {a} - ({b} + 1) * u + u**2 * v\",\n",
    "              'v': f\"{d1} * laplace(v) + {b} * u - u**2 * v\"})\n",
    "\n",
    "# initialize state\n",
    "grid = pde.UnitGrid([64, 64])\n",
    "u = pde.ScalarField(grid, a, label='Field $u$')\n",
    "v = b / a + 0.1 * pde.ScalarField.random_normal(grid, label='Field $v$')\n",
    "state = pde.FieldCollection([u, v])\n",
    "\n",
    "# simulate the pde\n",
    "sol = eq.solve(state, t_range=20, dt=1e-3, tracker=pde.PlotTracker())"
   ]
  },
  {
   "cell_type": "markdown",
   "metadata": {},
   "source": [
    "The `PDE` class allows a straight-forward implementation of simple PDEs. If more control is necessary, `PDEBase` can be subclasses."
   ]
  },
  {
   "cell_type": "code",
   "execution_count": null,
   "metadata": {
    "scrolled": false
   },
   "outputs": [],
   "source": [
    "class KuramotoSivashinskyPDE(pde.PDEBase):\n",
    "    \"\"\" Implementation of the normalized Kuramoto–Sivashinsky equation \"\"\"\n",
    "\n",
    "    def evolution_rate(self, state, t=0):\n",
    "        \"\"\" implement the python version of the evolution equation \"\"\"\n",
    "        state_lap = state.laplace(bc='natural')\n",
    "        state_lap2 = state_lap.laplace(bc='natural')\n",
    "        state_grad = state.gradient(bc='natural')\n",
    "        return -state_grad.to_scalar('squared_sum') / 2 - state_lap - state_lap2\n",
    "\n",
    "\n",
    "grid = pde.UnitGrid([64, 64])\n",
    "state = pde.ScalarField.random_uniform(grid)\n",
    "\n",
    "eq = KuramotoSivashinskyPDE()\n",
    "result = eq.solve(state, t_range=10, dt=0.01)\n",
    "result.plot(title='Final state');"
   ]
  },
  {
   "cell_type": "markdown",
   "metadata": {},
   "source": [
    "## Advanced interface for solving PDEs"
   ]
  },
  {
   "cell_type": "code",
   "execution_count": null,
   "metadata": {},
   "outputs": [],
   "source": [
    "from pprint import pprint"
   ]
  },
  {
   "cell_type": "code",
   "execution_count": null,
   "metadata": {},
   "outputs": [],
   "source": [
    "# initialize the grid, an initial condition, and the PDE\n",
    "grid = pde.UnitGrid([32, 32])\n",
    "field = pde.ScalarField.random_uniform(grid, -1, 1)\n",
    "eq = pde.DiffusionPDE()"
   ]
  },
  {
   "cell_type": "code",
   "execution_count": null,
   "metadata": {},
   "outputs": [],
   "source": [
    "# try the explicit solver\n",
    "solver1 = pde.ExplicitSolver(eq)\n",
    "controller1 = pde.Controller(solver1, t_range=1, tracker=None)\n",
    "sol1 = controller1.run(field, dt=1e-3)\n",
    "sol1.label = 'py-pde'\n",
    "pprint(controller1.diagnostics)"
   ]
  },
  {
   "cell_type": "code",
   "execution_count": null,
   "metadata": {},
   "outputs": [],
   "source": [
    "# try the standard scipy solver\n",
    "solver2 = pde.ScipySolver(eq)\n",
    "controller2 = pde.Controller(solver2, t_range=1, tracker=None)\n",
    "sol2 = controller2.run(field)\n",
    "sol2.label = 'scipy'\n",
    "pprint(controller2.diagnostics)"
   ]
  },
  {
   "cell_type": "code",
   "execution_count": null,
   "metadata": {
    "scrolled": false
   },
   "outputs": [],
   "source": [
    "# plot both fields and give the deviation as the title\n",
    "title = f'Mean squared deviation: {((sol1 - sol2)**2).average:.2g}'\n",
    "pde.FieldCollection([sol1, sol2]).plot(title=title);"
   ]
  },
  {
   "cell_type": "code",
   "execution_count": null,
   "metadata": {},
   "outputs": [],
   "source": []
  }
 ],
 "metadata": {
  "kernelspec": {
   "display_name": "Python 3",
   "language": "python",
   "name": "python3"
  },
  "language_info": {
   "codemirror_mode": {
    "name": "ipython",
    "version": 3
   },
   "file_extension": ".py",
   "mimetype": "text/x-python",
   "name": "python",
   "nbconvert_exporter": "python",
   "pygments_lexer": "ipython3",
   "version": "3.8.12"
  },
  "toc": {
   "base_numbering": 1,
   "nav_menu": {},
   "number_sections": true,
   "sideBar": true,
   "skip_h1_title": false,
   "title_cell": "Table of Contents",
   "title_sidebar": "Contents",
   "toc_cell": false,
   "toc_position": {
    "height": "calc(100% - 180px)",
    "left": "10px",
    "top": "150px",
    "width": "336px"
   },
   "toc_section_display": true,
   "toc_window_display": true
  }
 },
 "nbformat": 4,
 "nbformat_minor": 4
}
