{
 "cells": [
  {
   "cell_type": "markdown",
   "metadata": {},
   "source": [
    "<b style='font-size:2em'>Tutorial 1 – Grids and fields</b>\n",
    "\n",
    "This first part of the tutorial introduces grids and fields. Grids define the space on which fields are discretized. These fields then describe the state of the partial differential equations."
   ]
  },
  {
   "cell_type": "code",
   "execution_count": null,
   "metadata": {},
   "outputs": [],
   "source": [
    "# import packages\n",
    "import sys\n",
    "import numpy as np\n",
    "\n",
    "sys.path.append('../..')  # add the pde package to the python path\n",
    "import pde"
   ]
  },
  {
   "cell_type": "markdown",
   "metadata": {},
   "source": [
    "## Basic grids\n",
    "\n",
    "We start by defining the space and its discretization. The simplest variant is a rectangular geometry with unit-sized cells, which we call a `UnitGrid`. Cells with unequal sizes are supported by the more complex `CartesianGrid`. Finally, we support a small set of curvilinear (yet still orthogonal) coordinate systems: `PolarSymGrid` on a disk, `SphericalSymGrid` in a ball, and `CylindricalSymGrid` in an axisymmetric cylinder. All these grids have in common that they assume that fields do not depend on the angular variables, i.e., they enforce symmetry."
   ]
  },
  {
   "cell_type": "code",
   "execution_count": null,
   "metadata": {},
   "outputs": [],
   "source": [
    "grid = pde.UnitGrid([32, 32])\n",
    "grid.plot(title=f'Area={grid.volume}')"
   ]
  },
  {
   "cell_type": "code",
   "execution_count": null,
   "metadata": {},
   "outputs": [],
   "source": [
    "grid = pde.CartesianGrid([[0, 2], [0, 1]], [16, 32])\n",
    "grid.plot(title=f'Area={grid.volume}')"
   ]
  },
  {
   "cell_type": "code",
   "execution_count": null,
   "metadata": {},
   "outputs": [],
   "source": [
    "grid = pde.PolarSymGrid(5, 16)\n",
    "grid.plot(title=f'Area={grid.volume:.3g}')"
   ]
  },
  {
   "cell_type": "markdown",
   "metadata": {},
   "source": [
    "`PolarSymGrid` and `SphericalSymGrid` also support annuli. The two radii can be specified by a supplying a tuple to the `radius` argument."
   ]
  },
  {
   "cell_type": "code",
   "execution_count": null,
   "metadata": {},
   "outputs": [],
   "source": [
    "grid = pde.PolarSymGrid((3, 5), 8)\n",
    "grid.plot(title=f'Area={grid.volume:.3g}')"
   ]
  },
  {
   "cell_type": "markdown",
   "metadata": {},
   "source": [
    "## Scalar fields\n",
    "Scalar fields represent scalar quantities that depend on position. In this package, scalar fields are represented by their values at the support points of the discretized grids discussed above. Consequently, one first has to construct a grid and pass it to the `ScalarField` class to construct a scalar field."
   ]
  },
  {
   "cell_type": "code",
   "execution_count": null,
   "metadata": {},
   "outputs": [],
   "source": [
    "grid = pde.CartesianGrid([[0, 4*np.pi], [0, 2*np.pi]], [128, 32])\n",
    "\n",
    "field = pde.ScalarField(grid, data=1)\n",
    "field.data"
   ]
  },
  {
   "cell_type": "markdown",
   "metadata": {},
   "source": [
    "Scalar fields support a range of mathematical operations and can thus roughly used like bare numpy arrays. The actual underlying data of the field is accessed by its `.data` attribute."
   ]
  },
  {
   "cell_type": "code",
   "execution_count": null,
   "metadata": {},
   "outputs": [],
   "source": [
    "field += 4\n",
    "field.data"
   ]
  },
  {
   "cell_type": "markdown",
   "metadata": {},
   "source": [
    "Instead of looking at the raw data, fields will be most often visualized in plots. A convenient plotting method is the `.plot()` method."
   ]
  },
  {
   "cell_type": "code",
   "execution_count": null,
   "metadata": {},
   "outputs": [],
   "source": [
    "grid = pde.CartesianGrid([[0, 4*np.pi], [0, 2*np.pi]], [128, 32])\n",
    "data = np.arange(128 * 32).reshape(grid.shape)\n",
    "field = pde.ScalarField(grid, data=data)\n",
    "field.plot(colorbar=True);"
   ]
  },
  {
   "cell_type": "markdown",
   "metadata": {},
   "source": [
    "Values at individual points can be determined by interpolation"
   ]
  },
  {
   "cell_type": "code",
   "execution_count": null,
   "metadata": {},
   "outputs": [],
   "source": [
    "field.interpolate([2.1, 0.3])"
   ]
  },
  {
   "cell_type": "markdown",
   "metadata": {},
   "source": [
    "There are a range of methods to initialize scalar fields. For instance, various random fields can be initiated using the `ScalarField.random_*()` methods."
   ]
  },
  {
   "cell_type": "code",
   "execution_count": null,
   "metadata": {},
   "outputs": [],
   "source": [
    "field = pde.ScalarField.random_normal(grid)\n",
    "field.plot(title=f'Average={field.average:.3f}', colorbar=True);"
   ]
  },
  {
   "cell_type": "code",
   "execution_count": null,
   "metadata": {},
   "outputs": [],
   "source": [
    "field = pde.ScalarField.random_colored(grid, exponent=-4, label='Random field')\n",
    "field.plot();"
   ]
  },
  {
   "cell_type": "markdown",
   "metadata": {},
   "source": [
    "Fields can be written to files using the optional `h5py` package to write the data in the Hierarchical Data Format (HDF). Note that the underlying grid is also stored in the file and recreated transparently when the file is read using the `ScalarField.from_file()` method."
   ]
  },
  {
   "cell_type": "code",
   "execution_count": null,
   "metadata": {},
   "outputs": [],
   "source": [
    "field.to_file('random_field.hdf')\n",
    "\n",
    "field_loaded = pde.ScalarField.from_file('random_field.hdf')\n",
    "field_loaded.plot();"
   ]
  },
  {
   "cell_type": "markdown",
   "metadata": {},
   "source": [
    "Fields can be further analyzed by slicing or projeting them along given axes. Slicing uses interpolation to calculate field values at positions that might not lie on the original grid. In contrast, projecting integrates over the given axes, which are thereby removed."
   ]
  },
  {
   "cell_type": "code",
   "execution_count": null,
   "metadata": {},
   "outputs": [],
   "source": [
    "slice_x = field.slice({'y': np.pi})\n",
    "slice_x.plot(title='Slice field along line $y=π$');"
   ]
  },
  {
   "cell_type": "code",
   "execution_count": null,
   "metadata": {},
   "outputs": [],
   "source": [
    "project_x = field.project('y')\n",
    "project_x.plot(title='Projection by integration along $y$');"
   ]
  },
  {
   "cell_type": "markdown",
   "metadata": {},
   "source": [
    "Finally, fields can also be created from mathematical expressions that are parsed using `sympy`. Note that this general method is unsafe to process user-supplied data, since it uses the `exec` function."
   ]
  },
  {
   "cell_type": "code",
   "execution_count": null,
   "metadata": {},
   "outputs": [],
   "source": [
    "field = pde.ScalarField.from_expression(grid, 'sin(x) * cos(y)')\n",
    "field.plot(title=f'Average={field.average:f}', colorbar=True);"
   ]
  },
  {
   "cell_type": "markdown",
   "metadata": {},
   "source": [
    "## Differential operators for scalar fields\n",
    "Various differential operators can be applied to fields. These differential operators are just-in-time compiled using `numba`. Consequently, their first evaluation can take quite long, since code needs to be analyzed and compiled. However, each subsequent evaluation will be very fast.\n",
    "\n",
    "Note that differential operators require boundary conditions to be well-defined. Boundary conditions can be specified in a variety of formats, as shown by some examples below. More information on the various formats can be found in <a href=\"https://py-pde.readthedocs.io/en/latest/packages/pde.grids.boundaries.html#boundary-conditions\">the documentation</a>."
   ]
  },
  {
   "cell_type": "code",
   "execution_count": null,
   "metadata": {},
   "outputs": [],
   "source": [
    "grid = pde.CartesianGrid([[0, 4*np.pi], [0, 2*np.pi]], [128, 32])\n",
    "field = pde.ScalarField.from_expression(grid, 'sin(x) * cos(y)')\n",
    "\n",
    "laplace_dir = field.laplace({'value': 0})\n",
    "laplace_dir.plot(title='Laplacian of field with Dirichlet boundary conditions', colorbar=True);"
   ]
  },
  {
   "cell_type": "code",
   "execution_count": null,
   "metadata": {},
   "outputs": [],
   "source": [
    "laplace_neu = field.laplace({'derivative': 0})\n",
    "laplace_neu.plot(title='Laplacian of field with Neumann boundary conditions', colorbar=True);"
   ]
  },
  {
   "cell_type": "markdown",
   "metadata": {},
   "source": [
    "Note that the Laplace operator results in large values at the boundary where the supplied boundary condition is incompatible with the actual field data. In this case, this can be fixed by imposing Dirichlet conditions along the $x$-axis and Neumann conditions along the $y$-axis:"
   ]
  },
  {
   "cell_type": "code",
   "execution_count": null,
   "metadata": {},
   "outputs": [],
   "source": [
    "laplace_mix = field.laplace([{'value': 0}, {'derivative': 0}])\n",
    "laplace_mix.plot(title='Laplacian of field with mixed boundary conditions', colorbar=True);"
   ]
  },
  {
   "cell_type": "markdown",
   "metadata": {},
   "source": [
    "Alternatively, the Laplace operator can be evaluate assuming periodic boundary conditions. Note that periodic boundary conditions are a special case of boundary conditions, since they also affect how distances are measured in the defined space. Consequently, periodic boundary conditions need to be already declared on the grid instance."
   ]
  },
  {
   "cell_type": "code",
   "execution_count": null,
   "metadata": {},
   "outputs": [],
   "source": [
    "grid_per = pde.CartesianGrid([[0, 4*np.pi], [0, 2*np.pi]], [128, 32], periodic=True)\n",
    "field_per = pde.ScalarField.from_expression(grid_per, 'sin(x) * cos(y)')\n",
    "laplace_per = field_per.laplace('periodic')\n",
    "laplace_per.plot(title='Laplacian of periodic field', colorbar=True);"
   ]
  },
  {
   "cell_type": "markdown",
   "metadata": {},
   "source": [
    "Periodic and non-periodic axes can also be mixed as in the example below. In this case, the $x$-axis is periodic and thus requires periodic boundary conditions. Conversely, the $y$-axis is non-periodic and any other boundary condition can be specified. The most generic one is a Neumann condition of vanishing derivative. For convenience, we also define `natural` boundary conditions, which indicate periodic conditions for periodic axes and Neumann conditions otherwise."
   ]
  },
  {
   "cell_type": "code",
   "execution_count": null,
   "metadata": {},
   "outputs": [],
   "source": [
    "grid_mixed = pde.CartesianGrid([[0, 4*np.pi], [0, 2*np.pi]], [128, 32], periodic=[True, False])\n",
    "field_mixed = pde.ScalarField.from_expression(grid_mixed, 'sin(x) * cos(y)')\n",
    "\n",
    "laplace_mixed = field_mixed.laplace(['periodic', {'derivative': 0}])\n",
    "# laplace_mixed = field_mixed.laplace('natural')\n",
    "laplace_mixed.plot(title='Laplacian of mixed field', colorbar=True);"
   ]
  },
  {
   "cell_type": "markdown",
   "metadata": {},
   "source": [
    "## Vector and tensor fields\n",
    "Vector and tensor fields appear often in physical equations, e.g., due to applied differential operators. They offer almost all the methods already introduced for scalar fields above."
   ]
  },
  {
   "cell_type": "code",
   "execution_count": null,
   "metadata": {},
   "outputs": [],
   "source": [
    "grid_per = pde.CartesianGrid([[0, 4*np.pi], [0, 2*np.pi]], [128, 32], periodic=True)\n",
    "vector_field = pde.VectorField.from_expression(grid_per, ['1', 'cos(x)'])\n",
    "vector_field.plot();"
   ]
  },
  {
   "cell_type": "markdown",
   "metadata": {},
   "source": [
    "Vector fields can also originate from differential operators"
   ]
  },
  {
   "cell_type": "code",
   "execution_count": null,
   "metadata": {},
   "outputs": [],
   "source": [
    "field_per = pde.ScalarField.from_expression(grid_per, 'sin(x) * cos(y)')\n",
    "field_grad = field_per.gradient('natural')\n",
    "field_grad"
   ]
  },
  {
   "cell_type": "code",
   "execution_count": null,
   "metadata": {},
   "outputs": [],
   "source": [
    "field_grad.average"
   ]
  },
  {
   "cell_type": "code",
   "execution_count": null,
   "metadata": {},
   "outputs": [],
   "source": [
    "res = field_grad.plot(method='quiver', title='Quiver plot of the gradient field');"
   ]
  },
  {
   "cell_type": "code",
   "execution_count": null,
   "metadata": {},
   "outputs": [],
   "source": [
    "field_grad.plot(method='streamplot', title='Stream plot of the gradient field');"
   ]
  },
  {
   "cell_type": "code",
   "execution_count": null,
   "metadata": {},
   "outputs": [],
   "source": [
    "gradient_norm = field_grad.to_scalar('norm')\n",
    "gradient_norm.plot(title='Norm of gradient of field', colorbar=True);"
   ]
  },
  {
   "cell_type": "markdown",
   "metadata": {},
   "source": [
    "Individual components can be extracted by subscripting."
   ]
  },
  {
   "cell_type": "code",
   "execution_count": null,
   "metadata": {},
   "outputs": [],
   "source": [
    "comp_x = field_grad[0]\n",
    "comp_y = field_grad[1]\n",
    "comp_x.plot(title='$x$-component of gradient', colorbar=True);\n",
    "comp_y.plot(title='$y$-component of gradient', colorbar=True);"
   ]
  },
  {
   "cell_type": "markdown",
   "metadata": {},
   "source": [
    "This can be helpful to calculate quantities component-wise."
   ]
  },
  {
   "cell_type": "code",
   "execution_count": null,
   "metadata": {},
   "outputs": [],
   "source": [
    "gradient_expl_norm = (comp_x**2 + comp_y**2)**0.5\n",
    "np.allclose(gradient_expl_norm.data, gradient_norm.data)"
   ]
  },
  {
   "cell_type": "markdown",
   "metadata": {},
   "source": [
    "Scalar and vector fields can be interpreted as fields of rank 0 and 1, respectively. The package also supports rank-2 tensors, which are represented by `Tensor2Field`. Such a tensorial field can also originate from differential operators, e.g., as a Hessian."
   ]
  },
  {
   "cell_type": "code",
   "execution_count": null,
   "metadata": {},
   "outputs": [],
   "source": [
    "field_hess = field_grad.gradient('natural', label='Hessian of field')\n",
    "field_hess.attributes"
   ]
  },
  {
   "cell_type": "code",
   "execution_count": null,
   "metadata": {},
   "outputs": [],
   "source": [
    "field_hess.plot();"
   ]
  },
  {
   "cell_type": "markdown",
   "metadata": {},
   "source": [
    "Vector and tensor fields can also be used in dot products, either via the `.dot()` method or using the `@` notation denoting matrix products in in python."
   ]
  },
  {
   "cell_type": "code",
   "execution_count": null,
   "metadata": {},
   "outputs": [],
   "source": [
    "scalar_field = field_grad @ field_hess @ field_grad\n",
    "scalar_field.plot(title='Gradient . Hessian . Gradient', colorbar=True);"
   ]
  },
  {
   "cell_type": "code",
   "execution_count": null,
   "metadata": {},
   "outputs": [],
   "source": [
    "scalar_field.slice({'y': np.pi}).plot();"
   ]
  },
  {
   "cell_type": "markdown",
   "metadata": {},
   "source": [
    "## Field collections\n",
    "Many partial differential equations combine several fields, which can be represented as a collection."
   ]
  },
  {
   "cell_type": "code",
   "execution_count": null,
   "metadata": {},
   "outputs": [],
   "source": [
    "grid_pol = pde.PolarSymGrid([2, 7], 32)\n",
    "scalar_field1 = pde.ScalarField.from_expression(grid_pol, 'r**2', label='Increasing')\n",
    "scalar_field2 = pde.ScalarField.from_expression(grid_pol, '1/r', label='Decreasing')\n",
    "collection = pde.FieldCollection([scalar_field1, scalar_field2])\n",
    "collection.attributes"
   ]
  },
  {
   "cell_type": "code",
   "execution_count": null,
   "metadata": {},
   "outputs": [],
   "source": [
    "collection.plot();"
   ]
  },
  {
   "cell_type": "code",
   "execution_count": null,
   "metadata": {},
   "outputs": [],
   "source": [
    "collection.plot('image');"
   ]
  },
  {
   "cell_type": "code",
   "execution_count": null,
   "metadata": {
    "scrolled": false
   },
   "outputs": [],
   "source": [
    "(collection[0] + collection[1]).plot('image');"
   ]
  },
  {
   "cell_type": "code",
   "execution_count": null,
   "metadata": {},
   "outputs": [],
   "source": [
    "grid = pde.UnitGrid([96, 64])\n",
    "sf = pde.ScalarField.random_colored(grid, exponent=-3)\n",
    "vf = pde.VectorField.random_harmonic(grid, modes=1)\n",
    "fc = pde.FieldCollection([sf, vf])"
   ]
  },
  {
   "cell_type": "code",
   "execution_count": null,
   "metadata": {},
   "outputs": [],
   "source": [
    "fc.plot();"
   ]
  },
  {
   "cell_type": "code",
   "execution_count": null,
   "metadata": {},
   "outputs": [],
   "source": []
  }
 ],
 "metadata": {
  "kernelspec": {
   "display_name": "Python 3",
   "language": "python",
   "name": "python3"
  },
  "language_info": {
   "codemirror_mode": {
    "name": "ipython",
    "version": 3
   },
   "file_extension": ".py",
   "mimetype": "text/x-python",
   "name": "python",
   "nbconvert_exporter": "python",
   "pygments_lexer": "ipython3",
   "version": "3.9.7"
  },
  "toc": {
   "base_numbering": 1,
   "nav_menu": {},
   "number_sections": true,
   "sideBar": true,
   "skip_h1_title": false,
   "title_cell": "Table of Contents",
   "title_sidebar": "Contents",
   "toc_cell": false,
   "toc_position": {
    "height": "calc(100% - 180px)",
    "left": "10px",
    "top": "150px",
    "width": "336px"
   },
   "toc_section_display": true,
   "toc_window_display": true
  }
 },
 "nbformat": 4,
 "nbformat_minor": 4
}
