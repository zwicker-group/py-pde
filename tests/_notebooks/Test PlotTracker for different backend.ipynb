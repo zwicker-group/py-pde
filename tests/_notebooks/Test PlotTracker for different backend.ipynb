{
 "cells": [
  {
   "cell_type": "markdown",
   "metadata": {},
   "source": [
    "This notebook is for testing plotting during simulations using different backends in a jupyter context. Please chose some backend using the ipython magic in the next cell and run the whole notebook with a fresh kernel."
   ]
  },
  {
   "cell_type": "code",
   "execution_count": 1,
   "metadata": {},
   "outputs": [],
   "source": [
    "%matplotlib inline\n",
    "# %matplotlib notebook\n",
    "# %matplotlib osx"
   ]
  },
  {
   "cell_type": "code",
   "execution_count": 2,
   "metadata": {},
   "outputs": [],
   "source": [
    "from pathlib import Path\n",
    "import tempfile\n",
    "\n",
    "import pde"
   ]
  },
  {
   "cell_type": "markdown",
   "metadata": {},
   "source": [
    "# Show images during simulation\n",
    "A single plot should be shown when calling the `plot` method and an animation should be displayed during the simulation. Simultaneously, a video should be created."
   ]
  },
  {
   "cell_type": "code",
   "execution_count": 3,
   "metadata": {},
   "outputs": [],
   "source": [
    "grid = pde.UnitGrid([32])\n",
    "field = pde.ScalarField.random_uniform(grid)\n",
    "field.plot(title='Simple display');"
   ]
  },
  {
   "cell_type": "code",
   "execution_count": 4,
   "metadata": {},
   "outputs": [
    {
     "data": {
      "application/vnd.jupyter.widget-view+json": {
       "model_id": "d1c73501a50e45e48ce79f3847014f64",
       "version_major": 2,
       "version_minor": 0
      },
      "text/plain": [
       "  0%|          | 0/2.0 [00:00<?, ?it/s]"
      ]
     },
     "metadata": {},
     "output_type": "display_data"
    },
    {
     "name": "stderr",
     "output_type": "stream",
     "text": [
      "Spent more time on handling trackers (1.5056999999999992) than on the actual simulation (1.106468000000001)\n"
     ]
    }
   ],
   "source": [
    "eq = pde.DiffusionPDE()\n",
    "movie_file = tempfile.NamedTemporaryFile(delete=False, suffix='.mov').name\n",
    "plot_tracker = pde.PlotTracker(.1, title='Visible – {time:.2g}', show=True, movie=movie_file)\n",
    "_, info = eq.solve(field, t_range=2, dt=0.1, backend='numpy', ret_info=True,\n",
    "                   tracker=['progress', plot_tracker]);"
   ]
  },
  {
   "cell_type": "code",
   "execution_count": 5,
   "metadata": {},
   "outputs": [
    {
     "name": "stdout",
     "output_type": "stream",
     "text": [
      "Plotting took 1.51 seconds\n"
     ]
    }
   ],
   "source": [
    "print(f\"Plotting took {info['controller']['profiler']['tracker']:.3g} seconds\")"
   ]
  },
  {
   "cell_type": "code",
   "execution_count": 6,
   "metadata": {
    "run_control": {
     "marked": false
    }
   },
   "outputs": [],
   "source": [
    "assert Path(movie_file).stat().st_size > 0"
   ]
  },
  {
   "cell_type": "markdown",
   "metadata": {},
   "source": [
    "# Don't show images during simulation\n",
    "\n",
    "No plots should be produced, but the video should still be there."
   ]
  },
  {
   "cell_type": "code",
   "execution_count": 7,
   "metadata": {},
   "outputs": [],
   "source": [
    "grid = pde.UnitGrid([32])\n",
    "field = pde.ScalarField.random_uniform(grid)\n",
    "field.plot(title='Hidden display', action='close');"
   ]
  },
  {
   "cell_type": "code",
   "execution_count": 8,
   "metadata": {},
   "outputs": [
    {
     "data": {
      "application/vnd.jupyter.widget-view+json": {
       "model_id": "648c50dd09784d94861bd548f6593c4e",
       "version_major": 2,
       "version_minor": 0
      },
      "text/plain": [
       "  0%|          | 0/2.0 [00:00<?, ?it/s]"
      ]
     },
     "metadata": {},
     "output_type": "display_data"
    }
   ],
   "source": [
    "eq = pde.DiffusionPDE()\n",
    "movie_file = tempfile.NamedTemporaryFile(delete=False, suffix='.mov').name\n",
    "plot_tracker = pde.PlotTracker(.1, title='Hidden – {time:.2g}', show=False, movie=movie_file)\n",
    "_, info = eq.solve(field, t_range=2, dt=0.1, backend='numpy', ret_info=True,\n",
    "                   tracker=['progress', plot_tracker]);"
   ]
  },
  {
   "cell_type": "code",
   "execution_count": 9,
   "metadata": {},
   "outputs": [
    {
     "name": "stdout",
     "output_type": "stream",
     "text": [
      "Plotting took 0.492 seconds\n"
     ]
    }
   ],
   "source": [
    "print(f\"Plotting took {info['controller']['profiler']['tracker']:.3g} seconds\")"
   ]
  },
  {
   "cell_type": "code",
   "execution_count": 10,
   "metadata": {},
   "outputs": [
    {
     "name": "stdout",
     "output_type": "stream",
     "text": [
      "All done\n"
     ]
    }
   ],
   "source": [
    "assert Path(movie_file).stat().st_size > 0\n",
    "print('All done')"
   ]
  },
  {
   "cell_type": "markdown",
   "metadata": {},
   "source": [
    "# 2D collection with colorbar\n",
    "A plot collection with colorbars should be shown when calling the `plot` method and an animation should be displayed during the simulation. Simultaneously, a video should be created."
   ]
  },
  {
   "cell_type": "code",
   "execution_count": 11,
   "metadata": {},
   "outputs": [],
   "source": [
    "grid = pde.UnitGrid([32, 32])\n",
    "f1 = pde.ScalarField.random_uniform(grid)\n",
    "f2 = pde.ScalarField.random_uniform(grid)\n",
    "fc = pde.FieldCollection([f1, f2])\n",
    "fc.plot(title='Simple collection', colorbar=True);"
   ]
  },
  {
   "cell_type": "code",
   "execution_count": 12,
   "metadata": {},
   "outputs": [
    {
     "data": {
      "application/vnd.jupyter.widget-view+json": {
       "model_id": "1198f30f0f1b44019986f9f8f128c58e",
       "version_major": 2,
       "version_minor": 0
      },
      "text/plain": [
       "  0%|          | 0/2.0 [00:00<?, ?it/s]"
      ]
     },
     "metadata": {},
     "output_type": "display_data"
    },
    {
     "name": "stderr",
     "output_type": "stream",
     "text": [
      "Spent more time on handling trackers (3.204434000000001) than on the actual simulation (2.2652490000000007)\n"
     ]
    }
   ],
   "source": [
    "eq = pde.PDE({'a': 'laplace(a)', 'b': 'laplace(b)'})\n",
    "movie_file = tempfile.NamedTemporaryFile(delete=False, suffix='.mov').name\n",
    "plot_tracker = pde.PlotTracker(.5, title='Visible Plot Collection – {time:.2g}', show=True, movie=movie_file,\n",
    "                               plot_args={'colorbar': True})\n",
    "_, info = eq.solve(fc, t_range=2, dt=0.1, backend='numpy', ret_info=True,\n",
    "                   tracker=['progress', plot_tracker]);"
   ]
  },
  {
   "cell_type": "code",
   "execution_count": 13,
   "metadata": {},
   "outputs": [
    {
     "name": "stdout",
     "output_type": "stream",
     "text": [
      "Plotting took 3.2 seconds\n"
     ]
    }
   ],
   "source": [
    "print(f\"Plotting took {info['controller']['profiler']['tracker']:.3g} seconds\")"
   ]
  },
  {
   "cell_type": "code",
   "execution_count": 14,
   "metadata": {
    "run_control": {
     "marked": false
    }
   },
   "outputs": [],
   "source": [
    "assert Path(movie_file).stat().st_size > 0"
   ]
  },
  {
   "cell_type": "code",
   "execution_count": null,
   "metadata": {},
   "outputs": [],
   "source": []
  }
 ],
 "metadata": {
  "kernelspec": {
   "display_name": "python3-conda",
   "language": "python",
   "name": "python3-conda"
  },
  "language_info": {
   "codemirror_mode": {
    "name": "ipython",
    "version": 3
   },
   "file_extension": ".py",
   "mimetype": "text/x-python",
   "name": "python",
   "nbconvert_exporter": "python",
   "pygments_lexer": "ipython3",
   "version": "3.9.7"
  },
  "toc": {
   "base_numbering": 1,
   "nav_menu": {},
   "number_sections": true,
   "sideBar": true,
   "skip_h1_title": false,
   "title_cell": "Table of Contents",
   "title_sidebar": "Contents",
   "toc_cell": false,
   "toc_position": {},
   "toc_section_display": true,
   "toc_window_display": false
  }
 },
 "nbformat": 4,
 "nbformat_minor": 4
}
